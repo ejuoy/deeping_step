{
 "cells": [
  {
   "cell_type": "markdown",
   "metadata": {},
   "source": [
    "# NumPy 广播(broadcast)\n",
    "* 对不同形状的数组进行数值计算额方式\n"
   ]
  },
  {
   "cell_type": "code",
   "execution_count": 3,
   "metadata": {},
   "outputs": [
    {
     "name": "stdout",
     "output_type": "stream",
     "text": [
      "a*b [ 10  40  90 160]\n",
      "a+b [11 22 33 44]\n"
     ]
    }
   ],
   "source": [
    "import numpy as np\n",
    "a = np.array([1,2,3,4])\n",
    "b = np.array([10,20,30,40])\n",
    "c = a*b\n",
    "print(\"a*b\" , c)\n",
    "d = a+b\n",
    "print(\"a+b\" , d)\n"
   ]
  },
  {
   "cell_type": "code",
   "execution_count": 16,
   "metadata": {},
   "outputs": [
    {
     "name": "stdout",
     "output_type": "stream",
     "text": [
      "[[ 1  2  3  4  5]\n",
      " [ 6  7  8  9 10]]\n",
      "[[1]\n",
      " [4]]\n",
      "a+b\n",
      " [[ 2  3  4  5  6]\n",
      " [10 11 12 13 14]]\n",
      "a*c\n",
      " [[ 1  2  3  4  5]\n",
      " [24 28 32 36 40]]\n"
     ]
    }
   ],
   "source": [
    "import numpy as np\n",
    "a = np.arange(1,11,1).reshape(2,5)\n",
    "print(a)\n",
    "b = np.random.randint(1,5,(2,1))\n",
    "print(b)\n",
    "c = a+b \n",
    "print(\"a+b\\n\",c)\n",
    "d = a*b\n",
    "print(\"a*c\\n\",d)"
   ]
  },
  {
   "cell_type": "markdown",
   "metadata": {},
   "source": [
    "## 广播\n",
    "当前维度一个为1 ,其他值相等\n"
   ]
  },
  {
   "cell_type": "code",
   "execution_count": 23,
   "metadata": {},
   "outputs": [
    {
     "name": "stdout",
     "output_type": "stream",
     "text": [
      "0\t1\t2\t3\t4\t5\t\n",
      "\n",
      "0\t3\t1\t4\t2\t5\t\n",
      "\n"
     ]
    }
   ],
   "source": [
    "# nditer 迭代\n",
    "import numpy as np \n",
    "a = np.arange(6).reshape(2,3)\n",
    "for i in np.nditer(a):\n",
    "    print(\"%d\\t\"%(i),end='')\n",
    "print('\\n')\n",
    "# 列优先\n",
    "for i in np.nditer(a,order='F'):\n",
    "    print(\"%d\\t\"%(i),end='')\n",
    "print('\\n')"
   ]
  },
  {
   "cell_type": "code",
   "execution_count": 24,
   "metadata": {},
   "outputs": [
    {
     "name": "stdout",
     "output_type": "stream",
     "text": [
      "[ 0  1 10  3  4  5]\n"
     ]
    }
   ],
   "source": [
    "import numpy as np \n",
    "a = np.arange(6)\n",
    "a[2] = 10\n",
    "print(a)"
   ]
  },
  {
   "cell_type": "code",
   "execution_count": 30,
   "metadata": {},
   "outputs": [
    {
     "name": "stdout",
     "output_type": "stream",
     "text": [
      "[[0.4186971  0.70295061 0.36730404]\n",
      " [0.39977241 0.11530359 0.04168465]]\n",
      "[0.4186971  0.70295061 0.36730404 0.39977241 0.11530359 0.04168465]\n",
      "[0.4186971  0.70295061 0.36730404]\n",
      "[0.39977241 0.11530359 0.04168465]\n",
      "0.4186971029988341\n",
      "0.7029506105776234\n",
      "0.3673040350644663\n",
      "0.39977240515791856\n",
      "0.11530358713658684\n",
      "0.041684653840171726\n"
     ]
    }
   ],
   "source": [
    "import numpy as np \n",
    "a = np.random.rand(6).reshape(2,3)\n",
    "print(a)\n",
    "\n",
    "# 返回数组\n",
    "print(a.ravel())\n",
    "\n",
    "for row in a:\n",
    "    print(row)\n",
    "\n",
    "# 数组中每隔元素处理\n",
    "for element in a.flat:\n",
    "    print(element)"
   ]
  },
  {
   "cell_type": "code",
   "execution_count": 37,
   "metadata": {},
   "outputs": [
    {
     "name": "stdout",
     "output_type": "stream",
     "text": [
      "[[2 3 1 5 3]\n",
      " [1 8 3 7 4]]\n",
      "[[2 1]\n",
      " [3 8]\n",
      " [1 3]\n",
      " [5 7]\n",
      " [3 4]]\n",
      "[[2 1]\n",
      " [3 8]\n",
      " [1 3]\n",
      " [5 7]\n",
      " [3 4]]\n"
     ]
    }
   ],
   "source": [
    "import numpy as np\n",
    "a = np.random.randint(1,10,(2,5))\n",
    "print(a)\n",
    "# np.transpose(a) == a.T 转置  \n",
    "print(np.transpose(a))\n",
    "print(a.T)\n"
   ]
  },
  {
   "cell_type": "code",
   "execution_count": 38,
   "metadata": {},
   "outputs": [
    {
     "name": "stdout",
     "output_type": "stream",
     "text": [
      "[[ 0.4445191   0.46108757 -0.86727162]\n",
      " [-0.88658369 -0.66930969 -0.63602087]]\n",
      "[[0.4445191  0.46108757 0.86727162]\n",
      " [0.88658369 0.66930969 0.63602087]]\n",
      "[[0.4445191  0.46108757 0.86727162]\n",
      " [0.88658369 0.66930969 0.63602087]]\n"
     ]
    }
   ],
   "source": [
    "num = np.random.randn(6).reshape(2,3)\n",
    "print(num)\n",
    "print(np.abs(num))\n",
    "print(np.fabs(num))"
   ]
  },
  {
   "cell_type": "code",
   "execution_count": 47,
   "metadata": {},
   "outputs": [
    {
     "name": "stdout",
     "output_type": "stream",
     "text": [
      "[[4 6 8]\n",
      " [7 9 5]]\n",
      "[[2.         2.44948974 2.82842712]\n",
      " [2.64575131 3.         2.23606798]]\n",
      "[[16 36 64]\n",
      " [49 81 25]]\n",
      "exp\n",
      " [[  54.59815003  403.42879349 2980.95798704]\n",
      " [1096.63315843 8103.08392758  148.4131591 ]]\n",
      "log\n",
      " [[1.38629436 1.79175947 2.07944154]\n",
      " [1.94591015 2.19722458 1.60943791]]\n"
     ]
    }
   ],
   "source": [
    "a = np.random.randint(1,10,(2,3))\n",
    "print(a)\n",
    "# np.sqrt 平方根  np.square 平方\n",
    "print(np.sqrt(a))\n",
    "print(np.square(a))\n",
    "\n",
    "# 自然底数 e的n次方\n",
    "print('exp\\n',np.exp(a))\n",
    "# 自然对数\n",
    "print('log\\n',np.log(a))\n",
    "print('')"
   ]
  },
  {
   "cell_type": "code",
   "execution_count": null,
   "metadata": {},
   "outputs": [],
   "source": []
  }
 ],
 "metadata": {
  "kernelspec": {
   "display_name": "Python 3",
   "language": "python",
   "name": "python3"
  },
  "language_info": {
   "codemirror_mode": {
    "name": "ipython",
    "version": 3
   },
   "file_extension": ".py",
   "mimetype": "text/x-python",
   "name": "python",
   "nbconvert_exporter": "python",
   "pygments_lexer": "ipython3",
   "version": "3.6.5"
  }
 },
 "nbformat": 4,
 "nbformat_minor": 2
}
