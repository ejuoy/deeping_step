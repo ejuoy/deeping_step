{
 "cells": [
  {
   "cell_type": "markdown",
   "metadata": {},
   "source": [
    "## numpy\n",
    "1. 支持大量维度数组和矩阵运算\n",
    "2. 提供大量数学函数库\n",
    "3. 开源"
   ]
  },
  {
   "cell_type": "code",
   "execution_count": 2,
   "metadata": {},
   "outputs": [
    {
     "name": "stdout",
     "output_type": "stream",
     "text": [
      "[1 2 3]\n",
      "<class 'numpy.ndarray'>\n"
     ]
    }
   ],
   "source": [
    "# Ndarray N维数组对象\n",
    "import numpy as np\n",
    "# 一维数组\n",
    "a = np.array([1,2,3])\n",
    "print(a)\n",
    "b = np.array([[1,2],[3,4]])\n",
    "print(type(b))"
   ]
  },
  {
   "cell_type": "markdown",
   "metadata": {},
   "source": [
    "# 参数:\n",
    "     object:数组或者嵌套的数列 必存在\n",
    "     dtype :数据类型\n",
    "     copy  :\n",
    "     order :创建数组的方向  C 行  F 列   A 任意方向\n",
    "     subok :\n",
    "     ndmin :指定生成数组的最小维度"
   ]
  },
  {
   "cell_type": "code",
   "execution_count": 11,
   "metadata": {},
   "outputs": [
    {
     "name": "stdout",
     "output_type": "stream",
     "text": [
      "empty [[1 0]\n",
      " [0 0]]\n",
      "zeros [[0 0]\n",
      " [0 0]]\n",
      "ones [[1 1]\n",
      " [1 1]]\n"
     ]
    }
   ],
   "source": [
    "import numpy as np\n",
    "a = np.empty((2,2),dtype = 'i1')\n",
    "print(\"empty\",a)\n",
    "b = np.zeros((2,2),dtype = 'i4')\n",
    "print(\"zeros\",b)\n",
    "c = np.ones((2,2),dtype = 'i4')\n",
    "print(\"ones\" , c)\n"
   ]
  },
  {
   "cell_type": "code",
   "execution_count": 13,
   "metadata": {},
   "outputs": [
    {
     "name": "stdout",
     "output_type": "stream",
     "text": [
      "[1 3 4]\n"
     ]
    }
   ],
   "source": [
    "# 数组转ndarray\n",
    "a = np.array([1,3,4])\n",
    "print(a)"
   ]
  },
  {
   "cell_type": "code",
   "execution_count": 25,
   "metadata": {},
   "outputs": [
    {
     "name": "stdout",
     "output_type": "stream",
     "text": [
      "[1. 3. 5.]\n",
      "[ 2.  4.  8. 16. 32.]\n"
     ]
    }
   ],
   "source": [
    "a = np.linspace(1,5,3)\n",
    "print(a)\n",
    "b = np.logspace(1,5,5,base=2)\n",
    "print(b)"
   ]
  },
  {
   "cell_type": "markdown",
   "metadata": {},
   "source": [
    "```\n",
    "    numpy.linspace 等差数列\n",
    "    numpy.linspace(start,stop,num,endpoint,retstep,dtype)\n",
    "    start 起始值\n",
    "    stop  结束值\n",
    "    num   生成等间隔样例的数量，默认为50\n",
    "    endpoint 序列中是否包含stop 值 默认为 True\n",
    "    \n",
    "    numpy.logspace 等比数列\n",
    "        numpy.logscale(start, stop, num, endpoint, base, dtype)\n",
    "    1.\tstart 起始值是base ** start\n",
    "    2.\tstop 终止值是base ** stop\n",
    "    3.\tnum 范围内的数值数量，默认为50\n",
    "    4.\tendpoint 如果为true，终止值包含在输出数组当中\n",
    "    5.\tbase 对数空间的底数，默认为10\n",
    "    6.\tdtype 输出数组的数据类型，如果没有提供，则取决于其它参数\n",
    "```"
   ]
  },
  {
   "cell_type": "code",
   "execution_count": 26,
   "metadata": {},
   "outputs": [
    {
     "name": "stdout",
     "output_type": "stream",
     "text": [
      "[[0.78530743 0.39422449 0.95726152]\n",
      " [0.26335087 0.79406296 0.76026831]\n",
      " [0.8481331  0.37991364 0.76312638]]\n"
     ]
    }
   ],
   "source": [
    "a = np.random.rand(9).reshape(3,3)\n",
    "print(a)"
   ]
  },
  {
   "cell_type": "code",
   "execution_count": 28,
   "metadata": {
    "scrolled": true
   },
   "outputs": [
    {
     "name": "stdout",
     "output_type": "stream",
     "text": [
      "[[0.05516145 0.6101265 ]\n",
      " [0.43452718 0.92168552]\n",
      " [0.44579177 0.66416713]]\n"
     ]
    }
   ],
   "source": [
    "a = np.random.rand(3,2)\n",
    "print(a)"
   ]
  },
  {
   "cell_type": "code",
   "execution_count": 32,
   "metadata": {},
   "outputs": [
    {
     "name": "stdout",
     "output_type": "stream",
     "text": [
      "[[0.12186265 0.69461913 0.77414919]\n",
      " [0.40649368 0.33759928 0.28304661]]\n"
     ]
    }
   ],
   "source": [
    "a = np.random.random((2,3))\n",
    "print(a)"
   ]
  },
  {
   "cell_type": "markdown",
   "metadata": {},
   "source": [
    "\n",
    "    ## 其他创建方式\n",
    "    random模块\n",
    "    rand  返回 0 - 1 随机值\n",
    "    randn 返回一个样本具有标准正态分布\n",
    "    randint 返回随机的整数，位于半开区间[low,hight)size = 10  (3,3)\n",
    "    random_integers(low[, high, size])  返回随机的整数，位于闭区间\n",
    "    random 返回随机浮点数\n"
   ]
  },
  {
   "cell_type": "code",
   "execution_count": 41,
   "metadata": {},
   "outputs": [
    {
     "name": "stdout",
     "output_type": "stream",
     "text": [
      "[[1 2 3]\n",
      " [4 5 6]]\n",
      "(2, 3)\n",
      "<class 'tuple'>\n",
      "[[1 2]\n",
      " [3 4]\n",
      " [5 6]]\n",
      "(3, 2) 2\n",
      "1 6\n"
     ]
    }
   ],
   "source": [
    "a = np.array([[1,2,3],[4,5,6]],dtype = 'i1')\n",
    "print(a)\n",
    "print(a.shape)\n",
    "print(type(a.shape))\n",
    "# b = a.reshape(3,2)   -1自动算出\n",
    "b = a.reshape(-1,2)\n",
    "print(b)\n",
    "# ndim 维数\n",
    "print(b.shape , b.ndim)\n",
    "# itemsize 单个元素内存大小  size数组个数 \n",
    "print(b.itemsize , b.size)"
   ]
  },
  {
   "cell_type": "code",
   "execution_count": 47,
   "metadata": {},
   "outputs": [
    {
     "name": "stdout",
     "output_type": "stream",
     "text": [
      "[[20 50 15 22]\n",
      " [54 82 92 71]\n",
      " [99 65 96 39]]\n",
      "[92 71]\n",
      "<class 'numpy.ndarray'>\n"
     ]
    }
   ],
   "source": [
    "a = np.random.randint(1,100,size=(3,4))\n",
    "print(a)\n",
    "print(a[1][2:])\n",
    "# 切片后类型不变\n",
    "print(type(a[1][2:]))"
   ]
  },
  {
   "cell_type": "code",
   "execution_count": null,
   "metadata": {},
   "outputs": [],
   "source": []
  }
 ],
 "metadata": {
  "kernelspec": {
   "display_name": "Python 3",
   "language": "python",
   "name": "python3"
  },
  "language_info": {
   "codemirror_mode": {
    "name": "ipython",
    "version": 3
   },
   "file_extension": ".py",
   "mimetype": "text/x-python",
   "name": "python",
   "nbconvert_exporter": "python",
   "pygments_lexer": "ipython3",
   "version": "3.6.5"
  }
 },
 "nbformat": 4,
 "nbformat_minor": 2
}
