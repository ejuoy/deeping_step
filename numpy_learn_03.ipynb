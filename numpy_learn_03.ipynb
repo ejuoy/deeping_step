{
 "cells": [
  {
   "cell_type": "markdown",
   "metadata": {},
   "source": [
    "# 线性代数\n",
    "numpy 提供线性代数所需的所有功能\n",
    "\n",
    "    dot           两个数组的点积,对应元素相乘\n",
    "    vdot          两个向量的点积\n",
    "    inner         两个数组的内积\n",
    "    \n",
    "    matmul        两个数组的矩阵积\n",
    "    determinant   数组的行列式\n",
    "    solve         求解线性矩阵方程\n",
    "    inv           计算矩阵的乘法逆矩阵\n"
   ]
  },
  {
   "cell_type": "code",
   "execution_count": 9,
   "metadata": {},
   "outputs": [
    {
     "name": "stdout",
     "output_type": "stream",
     "text": [
      "[[19 22]\n",
      " [43 50]]\n",
      "19 22\n",
      "43 50\n",
      "70\n",
      "70\n",
      "-----\n",
      "[[17 23]\n",
      " [39 53]]\n",
      "17 23\n",
      "39 53\n"
     ]
    }
   ],
   "source": [
    "import numpy as np \n",
    "a = np.array([[1,2],\n",
    "              [3,4]])\n",
    "b = np.array([[5,6],\n",
    "              [7,8]])\n",
    "# 矩阵乘积\n",
    "print(np.dot(a,b))\n",
    "print(1*5+2*7,1*6+2*8)\n",
    "print(3*5+4*7,3*6+4*8)\n",
    "# 点积\n",
    "print(np.vdot(a,b))\n",
    "print(1*5+2*6+3*7+4*8)\n",
    "\n",
    "\n",
    "print('-----')\n",
    "# 内积\n",
    "print(np.inner(a,b))\n",
    "print(1*5+2*6,1*7+2*8)\n",
    "print(3*5+4*6,3*7+4*8)"
   ]
  },
  {
   "cell_type": "markdown",
   "metadata": {},
   "source": [
    "* 矩阵\n",
    "    1*5+2*7,1*6+2*8\n",
    "    3*5+4*7,3*6+4*8\n",
    "* 点积\n",
    "    1*3+2*4+5*7+6*8\n"
   ]
  },
  {
   "cell_type": "code",
   "execution_count": 10,
   "metadata": {},
   "outputs": [
    {
     "name": "stdout",
     "output_type": "stream",
     "text": [
      "-2.0000000000000004\n"
     ]
    }
   ],
   "source": [
    "# 行列式\n",
    "import numpy as np \n",
    "a = np.array([[1,2],\n",
    "              [3,4]])\n",
    "b = np.array([[5,6],\n",
    "              [7,8]])\n",
    "print(np.linalg.det(a))\n",
    "\n"
   ]
  },
  {
   "cell_type": "code",
   "execution_count": 11,
   "metadata": {},
   "outputs": [
    {
     "name": "stdout",
     "output_type": "stream",
     "text": [
      "数组 a：\n",
      "[[ 1  1  1]\n",
      " [ 0  2  5]\n",
      " [ 2  5 -1]]\n",
      "a 的逆：\n",
      "[[ 1.28571429 -0.28571429 -0.14285714]\n",
      " [-0.47619048  0.14285714  0.23809524]\n",
      " [ 0.19047619  0.14285714 -0.0952381 ]]\n",
      "矩阵 b：\n",
      "[[ 6]\n",
      " [-4]\n",
      " [27]]\n",
      "计算：A^(-1)B：\n",
      "[[ 5.]\n",
      " [ 3.]\n",
      " [-2.]]\n"
     ]
    }
   ],
   "source": [
    "import numpy as np \n",
    "a = np.array([[1,1,1],[0,2,5],[2,5,-1]]) \n",
    " \n",
    "print ('数组 a：')\n",
    "print (a)\n",
    "ainv = np.linalg.inv(a) \n",
    " \n",
    "print ('a 的逆：')\n",
    "print (ainv)\n",
    " \n",
    "print ('矩阵 b：')\n",
    "b = np.array([[6],[-4],[27]]) \n",
    "print (b)\n",
    " \n",
    "print ('计算：A^(-1)B：')\n",
    "x = np.linalg.solve(a,b) \n",
    "print (x)\n",
    "# 这就是线性方向 x = 5, y = 3, z = -2 的解"
   ]
  },
  {
   "cell_type": "code",
   "execution_count": null,
   "metadata": {},
   "outputs": [],
   "source": []
  }
 ],
 "metadata": {
  "kernelspec": {
   "display_name": "Python 3",
   "language": "python",
   "name": "python3"
  },
  "language_info": {
   "codemirror_mode": {
    "name": "ipython",
    "version": 3
   },
   "file_extension": ".py",
   "mimetype": "text/x-python",
   "name": "python",
   "nbconvert_exporter": "python",
   "pygments_lexer": "ipython3",
   "version": "3.6.5"
  }
 },
 "nbformat": 4,
 "nbformat_minor": 2
}
